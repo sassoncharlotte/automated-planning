{
 "cells": [
  {
   "cell_type": "code",
   "execution_count": 239,
   "metadata": {},
   "outputs": [],
   "source": [
    "import numpy as np"
   ]
  },
  {
   "cell_type": "code",
   "execution_count": 240,
   "metadata": {},
   "outputs": [
    {
     "name": "stdout",
     "output_type": "stream",
     "text": [
      "nb de lignes pour la propriété d'adjacence 54\n"
     ]
    },
    {
     "data": {
      "text/plain": [
       "array([[0., 0., 0.],\n",
       "       [0., 0., 0.],\n",
       "       [0., 0., 0.],\n",
       "       [0., 0., 0.],\n",
       "       [0., 0., 0.],\n",
       "       [0., 0., 0.]])"
      ]
     },
     "execution_count": 240,
     "metadata": {},
     "output_type": "execute_result"
    }
   ],
   "source": [
    "mat0 = np.zeros((6, 3))\n",
    "for i in range(mat0.shape[0]):\n",
    "    for j in range(mat0.shape[1]):\n",
    "        # mat0[i, j] = str(f\"{i+1}{j+1}\")\n",
    "        mat0[i, j] = 0\n",
    "print(\"nb de lignes pour la propriété d'adjacence\", 4*4 + 4*2 + (8+2)*3)\n",
    "mat0"
   ]
  },
  {
   "cell_type": "code",
   "execution_count": 241,
   "metadata": {},
   "outputs": [
    {
     "name": "stdout",
     "output_type": "stream",
     "text": [
      "nb de lignes pour la propriété d'adjacence 104\n"
     ]
    },
    {
     "data": {
      "text/plain": [
       "array([[0., 0., 0., 0.],\n",
       "       [0., 0., 0., 0.],\n",
       "       [0., 0., 0., 0.],\n",
       "       [0., 0., 0., 0.],\n",
       "       [0., 0., 0., 0.],\n",
       "       [0., 0., 0., 0.],\n",
       "       [0., 0., 0., 0.],\n",
       "       [0., 0., 0., 0.]])"
      ]
     },
     "execution_count": 241,
     "metadata": {},
     "output_type": "execute_result"
    }
   ],
   "source": [
    "mat1 = np.zeros((8, 4))\n",
    "for i in range(mat1.shape[0]):\n",
    "    for j in range(mat1.shape[1]):\n",
    "        # mat1[i, j] = str(f\"{i+1}{j+1}\")\n",
    "        mat1[i, j] = 0\n",
    "print(\"nb de lignes pour la propriété d'adjacence\", 12*4 + (12 + 4)*3 + 4*2)\n",
    "mat1"
   ]
  },
  {
   "cell_type": "code",
   "execution_count": 242,
   "metadata": {},
   "outputs": [
    {
     "name": "stdout",
     "output_type": "stream",
     "text": [
      "nb de lignes pour la propriété d'adjacence 202\n"
     ]
    },
    {
     "data": {
      "text/plain": [
       "array([[0., 0., 0., 0.],\n",
       "       [0., 0., 0., 0.],\n",
       "       [0., 0., 0., 0.],\n",
       "       [0., 0., 0., 0.],\n",
       "       [0., 0., 0., 0.],\n",
       "       [0., 0., 0., 0.],\n",
       "       [0., 0., 0., 0.],\n",
       "       [0., 0., 0., 0.],\n",
       "       [0., 0., 0., 0.],\n",
       "       [0., 0., 0., 0.],\n",
       "       [0., 0., 0., 0.],\n",
       "       [0., 0., 0., 0.],\n",
       "       [0., 0., 0., 0.],\n",
       "       [0., 0., 0., 0.],\n",
       "       [0., 0., 0., 0.]])"
      ]
     },
     "execution_count": 242,
     "metadata": {},
     "output_type": "execute_result"
    }
   ],
   "source": [
    "mat2 = np.zeros((15, 4))\n",
    "for i in range(mat2.shape[0]):\n",
    "    for j in range(mat2.shape[1]):\n",
    "        # mat2[i, j] = str(f\"{i+1}{j+1}\")\n",
    "        mat2[i, j] = 0\n",
    "print(\"nb de lignes pour la propriété d'adjacence\", 13*2*4 + (13*2 + 4)*3 + 4*2)\n",
    "mat2"
   ]
  },
  {
   "cell_type": "code",
   "execution_count": 243,
   "metadata": {},
   "outputs": [],
   "source": [
    "def adjacence_properties(mat):\n",
    "    \"\"\" Copier coller pour ajouter propriétés d'adjacence de mat \"\"\"\n",
    "    # Coin en haut à gauche\n",
    "    i, j = 1, 1\n",
    "    print(f\"(adjacent pos{i}{j} pos{i+1}{j})\")\n",
    "    print(f\"(adjacent pos{i}{j} pos{i}{j+1})\")\n",
    "\n",
    "    # Première ligne sauf coins\n",
    "    for j in range(1, mat.shape[1]-1):\n",
    "        j += 1\n",
    "        print(f\"(adjacent pos{i}{j} pos{i}{j-1})\")\n",
    "        print(f\"(adjacent pos{i}{j} pos{i+1}{j})\")\n",
    "        print(f\"(adjacent pos{i}{j} pos{i}{j+1})\")\n",
    "\n",
    "    # Coin en haut à droite\n",
    "    j = mat.shape[1]\n",
    "    print(f\"(adjacent pos{i}{j} pos{i+1}{j})\")\n",
    "    print(f\"(adjacent pos{i}{j} pos{i}{j-1})\")\n",
    "\n",
    "\n",
    "    for i in range(1, mat.shape[0]-1):\n",
    "        # Coté gauche sauf première et dernière ligne\n",
    "        j = 1\n",
    "        print(f\"(adjacent pos{i+1}{j} pos{i+1}{j+1})\")\n",
    "        print(f\"(adjacent pos{i+1}{j} pos{i}{j})\")\n",
    "        print(f\"(adjacent pos{i+1}{j} pos{i+2}{j})\")\n",
    "\n",
    "        # Partie centrale (4 voisins chacun)\n",
    "        for j in range(1, mat.shape[1]-1):\n",
    "            j = j+1\n",
    "            print(f\"(adjacent pos{i+1}{j} pos{i}{j})\")\n",
    "            print(f\"(adjacent pos{i+1}{j} pos{i+1}{j-1})\")\n",
    "            print(f\"(adjacent pos{i+1}{j} pos{i+2}{j})\")\n",
    "            print(f\"(adjacent pos{i+1}{j} pos{i+1}{j+1})\")\n",
    "\n",
    "        # Coté droit sauf première et dernière ligne\n",
    "        j = mat.shape[1]\n",
    "        print(f\"(adjacent pos{i+1}{j} pos{i}{j})\")\n",
    "        print(f\"(adjacent pos{i+1}{j} pos{i+2}{j})\")\n",
    "        print(f\"(adjacent pos{i+1}{j} pos{i+1}{j-1})\")\n",
    "\n",
    "\n",
    "    # Coin en bas à gauche\n",
    "    i, j =  mat.shape[0],  1\n",
    "    print(f\"(adjacent pos{i}{j} pos{i-1}{j})\")\n",
    "    print(f\"(adjacent pos{i}{j} pos{i}{j+1})\")\n",
    "\n",
    "    # Dernière ligne sauf coins\n",
    "    for j in range(1, mat.shape[1]-1):\n",
    "        j += 1\n",
    "        print(f\"(adjacent pos{i}{j} pos{i}{j-1})\")\n",
    "        print(f\"(adjacent pos{i}{j} pos{i-1}{j})\")\n",
    "        print(f\"(adjacent pos{i}{j} pos{i}{j+1})\")\n",
    "\n",
    "    # Coin en bas à droite\n",
    "    j = mat.shape[1]\n",
    "    print(f\"(adjacent pos{i}{j} pos{i-1}{j})\")\n",
    "    print(f\"(adjacent pos{i}{j} pos{i}{j-1})\")\n",
    "\n",
    "# adjacence_properties(mat2)"
   ]
  },
  {
   "cell_type": "code",
   "execution_count": 244,
   "metadata": {},
   "outputs": [],
   "source": [
    "def object_of_problem(mat):\n",
    "    for i in range(mat.shape[0]):\n",
    "        for j in range(mat.shape[1]):\n",
    "            print(f\"pos{i+1}{j+1}\")"
   ]
  },
  {
   "cell_type": "code",
   "execution_count": 245,
   "metadata": {},
   "outputs": [
    {
     "name": "stdout",
     "output_type": "stream",
     "text": [
      "Problème 0 initialisation\n"
     ]
    },
    {
     "data": {
      "text/plain": [
       "array([[0., 0., 0.],\n",
       "       [1., 0., 0.],\n",
       "       [0., 0., 0.],\n",
       "       [0., 1., 0.],\n",
       "       [0., 0., 0.],\n",
       "       [0., 8., 0.]])"
      ]
     },
     "execution_count": 245,
     "metadata": {},
     "output_type": "execute_result"
    }
   ],
   "source": [
    "# (at pos62)\n",
    "# (obstacle pos42)\n",
    "# (obstacle pos21)\n",
    "mat0[3, 1] = 1\n",
    "mat0[1, 0] = 1\n",
    "mat0[5, 1] = 8\n",
    "\n",
    "print(\"Problème 0 initialisation\")\n",
    "mat0"
   ]
  },
  {
   "cell_type": "code",
   "execution_count": 246,
   "metadata": {},
   "outputs": [
    {
     "name": "stdout",
     "output_type": "stream",
     "text": [
      "Problème 1 initialisation\n"
     ]
    },
    {
     "data": {
      "text/plain": [
       "array([[0., 0., 0., 0.],\n",
       "       [0., 0., 0., 0.],\n",
       "       [0., 0., 0., 0.],\n",
       "       [0., 0., 1., 0.],\n",
       "       [1., 1., 0., 0.],\n",
       "       [0., 0., 0., 0.],\n",
       "       [0., 1., 0., 0.],\n",
       "       [0., 8., 0., 0.]])"
      ]
     },
     "execution_count": 246,
     "metadata": {},
     "output_type": "execute_result"
    }
   ],
   "source": [
    "# (at pos82)\n",
    "# (obstacle pos51)\n",
    "# (obstacle pos52)\n",
    "# (obstacle pos72)\n",
    "# (obstacle pos43)\n",
    "mat1[4, 0] = 1\n",
    "mat1[4, 1] = 1\n",
    "mat1[6, 1] = 1\n",
    "mat1[3, 2] = 1\n",
    "mat1[7, 1] = 8\n",
    "\n",
    "print(\"Problème 1 initialisation\")\n",
    "mat1"
   ]
  },
  {
   "cell_type": "code",
   "execution_count": 247,
   "metadata": {},
   "outputs": [
    {
     "name": "stdout",
     "output_type": "stream",
     "text": [
      "Problème 2 initialisation\n"
     ]
    },
    {
     "data": {
      "text/plain": [
       "array([[1., 0., 0., 0.],\n",
       "       [0., 1., 0., 0.],\n",
       "       [0., 1., 0., 0.],\n",
       "       [0., 0., 0., 0.],\n",
       "       [0., 1., 1., 1.],\n",
       "       [0., 0., 0., 0.],\n",
       "       [0., 0., 0., 0.],\n",
       "       [0., 1., 0., 1.],\n",
       "       [0., 0., 0., 0.],\n",
       "       [0., 0., 0., 0.],\n",
       "       [0., 0., 0., 0.],\n",
       "       [0., 0., 0., 0.],\n",
       "       [1., 1., 1., 0.],\n",
       "       [0., 1., 0., 0.],\n",
       "       [0., 8., 0., 0.]])"
      ]
     },
     "execution_count": 247,
     "metadata": {},
     "output_type": "execute_result"
    }
   ],
   "source": [
    "mat2[4, 1] = 1\n",
    "mat2[4, 2] = 1\n",
    "mat2[4, 3] = 1\n",
    "mat2[2, 1] = 1\n",
    "mat2[1, 1] = 1\n",
    "mat2[0, 0] = 1\n",
    "mat2[7, 1] = 1\n",
    "mat2[7, 3] = 1\n",
    "mat2[12, 0] = 1\n",
    "mat2[12, 1] = 1\n",
    "mat2[12, 2] = 1\n",
    "mat2[13, 1] = 1\n",
    "mat2[14, 1] = 8\n",
    "\n",
    "print(\"Problème 2 initialisation\")\n",
    "mat2"
   ]
  }
 ],
 "metadata": {
  "kernelspec": {
   "display_name": "tddl",
   "language": "python",
   "name": "python3"
  },
  "language_info": {
   "codemirror_mode": {
    "name": "ipython",
    "version": 3
   },
   "file_extension": ".py",
   "mimetype": "text/x-python",
   "name": "python",
   "nbconvert_exporter": "python",
   "pygments_lexer": "ipython3",
   "version": "3.8.15"
  },
  "orig_nbformat": 4
 },
 "nbformat": 4,
 "nbformat_minor": 2
}
