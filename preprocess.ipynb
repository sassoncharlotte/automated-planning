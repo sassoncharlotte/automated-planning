{
 "cells": [
  {
   "cell_type": "code",
   "execution_count": 1,
   "metadata": {},
   "outputs": [],
   "source": [
    "# from pddl import parse_domain, parse_problem\n",
    "\n",
    "# DOMAIN_PATH = 'pddl_files/domain.pddl'\n",
    "# PROBLEM_PATH = 'pddl_files/problem0.pddl'\n",
    "\n",
    "# domain = parse_domain(DOMAIN_PATH)\n",
    "# problem = parse_problem(PROBLEM_PATH)"
   ]
  },
  {
   "cell_type": "code",
   "execution_count": 23,
   "metadata": {},
   "outputs": [],
   "source": [
    "from parser_files.pddlparser import PDDLParser\n",
    "\n",
    "parser = PDDLParser()\n",
    "domain = parser.parse('pddl_files/domain.pddl')\n",
    "problem = parser.parse('pddl_files/problem0.pddl')"
   ]
  },
  {
   "cell_type": "code",
   "execution_count": 2,
   "metadata": {},
   "outputs": [
    {
     "data": {
      "text/plain": [
       "[Predicate(munition, ), Predicate(at, pos62)]"
      ]
     },
     "execution_count": 2,
     "metadata": {},
     "output_type": "execute_result"
    }
   ],
   "source": [
    "constant_predicates, initial_predicates = [], []\n",
    "\n",
    "for predicate in problem.init:\n",
    "    if predicate.name in [\"adjacent\", \"obstacle\"]:\n",
    "        constant_predicates.append(predicate)\n",
    "    else:\n",
    "        initial_predicates.append(predicate)\n",
    "\n",
    "initial_predicates"
   ]
  },
  {
   "cell_type": "code",
   "execution_count": 6,
   "metadata": {},
   "outputs": [
    {
     "name": "stdout",
     "output_type": "stream",
     "text": [
      "?pos1\n",
      "?pos2\n",
      "?pos1\n",
      "?pos2\n"
     ]
    }
   ],
   "source": [
    "for action in domain.actions:\n",
    "    for param in action.parameters:\n",
    "        print(param)"
   ]
  },
  {
   "cell_type": "code",
   "execution_count": null,
   "metadata": {},
   "outputs": [
    {
     "name": "stdout",
     "output_type": "stream",
     "text": [
      "?pos1\n",
      "?pos2\n",
      "?pos1\n",
      "?pos2\n"
     ]
    }
   ],
   "source": [
    "def get_neighbors(current_state, constant_predicates):\n",
    "    # get all possible actions\n",
    "    actions = get_actions(current_state, constant_predicates)\n",
    "\n",
    "    # compute all successor states\n",
    "    states = []\n",
    "    return states\n",
    "\n",
    "def get_actions(current_predicates, constant_predicates, all_actions):\n",
    "    actions = []\n",
    "    for action in all_actions:\n",
    "        for param in action.parameters:\n",
    "            print(param)\n",
    "        for precond in action.precondition.operands:\n",
    "            if precond not in current_predicates and precond not in constant_predicates:\n",
    "                break\n",
    "        actions.append(action)\n",
    "    return actions\n",
    "\n",
    "\n",
    "actions = get_actions(initial_predicates, constant_predicates, domain.actions)"
   ]
  }
 ],
 "metadata": {
  "kernelspec": {
   "display_name": "planif",
   "language": "python",
   "name": "python3"
  },
  "language_info": {
   "codemirror_mode": {
    "name": "ipython",
    "version": 3
   },
   "file_extension": ".py",
   "mimetype": "text/x-python",
   "name": "python",
   "nbconvert_exporter": "python",
   "pygments_lexer": "ipython3",
   "version": "3.9.16"
  },
  "orig_nbformat": 4
 },
 "nbformat": 4,
 "nbformat_minor": 2
}
