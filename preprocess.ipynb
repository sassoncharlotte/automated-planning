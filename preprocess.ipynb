{
 "cells": [
  {
   "cell_type": "code",
   "execution_count": 1,
   "metadata": {},
   "outputs": [],
   "source": [
    "from pddl import parse_domain, parse_problem\n",
    "\n",
    "DOMAIN_PATH = 'pddl_files/domain.pddl'\n",
    "PROBLEM_PATH = 'pddl_files/problem0.pddl'\n",
    "\n",
    "domain = parse_domain(DOMAIN_PATH)\n",
    "problem = parse_problem(PROBLEM_PATH)"
   ]
  },
  {
   "cell_type": "code",
   "execution_count": 46,
   "metadata": {},
   "outputs": [
    {
     "data": {
      "text/plain": [
       "[Predicate(munition, ), Predicate(at, pos62)]"
      ]
     },
     "execution_count": 46,
     "metadata": {},
     "output_type": "execute_result"
    }
   ],
   "source": [
    "constant_predicates, initial_predicates = [], []\n",
    "\n",
    "for predicate in problem.init:\n",
    "    if predicate.name in [\"adjacent\", \"obstacle\"]:\n",
    "        constant_predicates.append(predicate)\n",
    "    else:\n",
    "        initial_predicates.append(predicate)\n",
    "\n",
    "initial_predicates"
   ]
  },
  {
   "cell_type": "code",
   "execution_count": 32,
   "metadata": {},
   "outputs": [
    {
     "name": "stdout",
     "output_type": "stream",
     "text": [
      "(and (adjacent ?pos1 ?pos2) (at ?pos1) (not (wall ?pos2)) (not (obstacle ?pos2)))\n",
      "(and (adjacent ?pos1 ?pos2) (at ?pos1) (not (wall ?pos2)) (munition))\n"
     ]
    }
   ],
   "source": [
    "all_actions = domain.actions\n",
    "\n",
    "for action in domain.actions:\n",
    "    print(action.precondition)"
   ]
  },
  {
   "cell_type": "code",
   "execution_count": 49,
   "metadata": {},
   "outputs": [
    {
     "name": "stdout",
     "output_type": "stream",
     "text": [
      "(:action move\n",
      "    :parameters (?pos1 ?pos2 )\n",
      "    :precondition (and (adjacent ?pos1 ?pos2) (at ?pos1) (not (wall ?pos2)) (not (obstacle ?pos2)))\n",
      "    :effect (and (at ?pos2) (not (at ?pos1)))\n",
      ")\n",
      "(:action shoot\n",
      "    :parameters (?pos1 ?pos2 )\n",
      "    :precondition (and (adjacent ?pos1 ?pos2) (at ?pos1) (not (wall ?pos2)) (munition))\n",
      "    :effect (and (not (obstacle ?pos2)) (not (munition)))\n",
      ")\n"
     ]
    }
   ],
   "source": [
    "def get_neighbors(current_state, constant_predicates):\n",
    "    states = []\n",
    "    for action in get_actions(current_state, constant_predicates):\n",
    "        pass\n",
    "    return states\n",
    "\n",
    "def get_actions(current_predicates, constant_predicates):\n",
    "    actions = []\n",
    "    for action in all_actions:\n",
    "        for precond in action.precondition.operands:\n",
    "            if precond not in current_predicates and precond not in constant_predicates:\n",
    "                break\n",
    "        actions.append(action)\n",
    "        print(action)\n",
    "    return actions\n",
    "\n",
    "\n",
    "actions = get_actions(initial_predicates, constant_predicates)"
   ]
  }
 ],
 "metadata": {
  "kernelspec": {
   "display_name": "planif",
   "language": "python",
   "name": "python3"
  },
  "language_info": {
   "codemirror_mode": {
    "name": "ipython",
    "version": 3
   },
   "file_extension": ".py",
   "mimetype": "text/x-python",
   "name": "python",
   "nbconvert_exporter": "python",
   "pygments_lexer": "ipython3",
   "version": "3.9.16"
  },
  "orig_nbformat": 4
 },
 "nbformat": 4,
 "nbformat_minor": 2
}
