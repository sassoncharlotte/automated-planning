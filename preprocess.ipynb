{
 "cells": [
  {
   "cell_type": "code",
   "execution_count": 40,
   "metadata": {},
   "outputs": [],
   "source": [
    "# from pddl import parse_domain, parse_problem\n",
    "\n",
    "# DOMAIN_PATH = 'pddl_files/domain.pddl'\n",
    "# PROBLEM_PATH = 'pddl_files/problem0.pddl'\n",
    "\n",
    "# domain = parse_domain(DOMAIN_PATH)\n",
    "# problem = parse_problem(PROBLEM_PATH)"
   ]
  },
  {
   "cell_type": "code",
   "execution_count": 1,
   "metadata": {},
   "outputs": [],
   "source": [
    "from parser_files.pddlparser import PDDLParser\n",
    "\n",
    "parser = PDDLParser()\n",
    "domain = parser.parse('pddl_files/domain.pddl')\n",
    "problem = parser.parse('pddl_files/problem0.pddl')"
   ]
  },
  {
   "cell_type": "code",
   "execution_count": 2,
   "metadata": {},
   "outputs": [
    {
     "name": "stdout",
     "output_type": "stream",
     "text": [
      "('?pos1', 'position')\n",
      "('?pos2', 'position')\n",
      "('?pos1', 'position')\n",
      "('?pos2', 'position')\n"
     ]
    }
   ],
   "source": [
    "objects = problem.initial_state.objects\n",
    "\n",
    "for action in domain.actions:\n",
    "    for param in zip(action.arg_names, action.types):\n",
    "        print(param)"
   ]
  },
  {
   "cell_type": "code",
   "execution_count": 14,
   "metadata": {},
   "outputs": [
    {
     "data": {
      "text/plain": [
       "(6,\n",
       " [[('munition', ''), ('at', 'pos52'), (-1, ('at', 'pos62'))],\n",
       "  [('munition', ''), ('at', 'pos61'), (-1, ('at', 'pos62'))],\n",
       "  [('munition', ''), ('at', 'pos63'), (-1, ('at', 'pos62'))],\n",
       "  [('at', 'pos62'), (-1, ('munition', ''))],\n",
       "  [('at', 'pos62'), (-1, ('munition', ''))],\n",
       "  [('at', 'pos62'), (-1, ('munition', ''))]])"
      ]
     },
     "execution_count": 14,
     "metadata": {},
     "output_type": "execute_result"
    }
   ],
   "source": [
    "import itertools\n",
    "\n",
    "def get_value_predicate(predicate, candidate):\n",
    "    candidate_predicate = tuple([predicate[0]] + [candidate[i] for i in predicate[1:] if i])\n",
    "\n",
    "    # if predicate has arity = 0\n",
    "    if len(candidate_predicate) == 1:\n",
    "        candidate_predicate = (predicate[0], '')\n",
    "    return candidate_predicate\n",
    "\n",
    "\n",
    "def get_actions(current_predicates, constant_predicates, all_actions):\n",
    "    actions = []\n",
    "    for action in all_actions:\n",
    "        possible_values = {\n",
    "            param[0]: objects[param[1]] for param in zip(action.arg_names, action.types)\n",
    "        }\n",
    "        for candidate in ( (dict(zip(possible_values, x)) for x in itertools.product(*possible_values.values()) )):\n",
    "            action_is_valid = True\n",
    "            for precond in action.preconditions.literals:\n",
    "                # Negative predicate\n",
    "                if precond[0]==-1:\n",
    "                    neg_precond = precond[1]\n",
    "                    # Applies candidate's values as arguments for the predicate\n",
    "                    neg_candidate_precond = get_value_predicate(neg_precond, candidate)\n",
    "                    if neg_candidate_precond in current_predicates or neg_candidate_precond in constant_predicates:\n",
    "                        action_is_valid = False\n",
    "                        break\n",
    "                # Positive predicate\n",
    "                else:\n",
    "                    candidate_precond = get_value_predicate(precond, candidate)\n",
    "                    if candidate_precond not in current_predicates and candidate_precond not in constant_predicates:\n",
    "                        action_is_valid = False\n",
    "                        break\n",
    "            if action_is_valid:\n",
    "                actions.append((action, candidate))\n",
    "    return actions\n",
    "\n",
    "\n",
    "def get_neighbors(current_state, constant_predicates, all_actions):\n",
    "    # get all possible actions\n",
    "    actions = get_actions(current_state, constant_predicates, all_actions)\n",
    "\n",
    "    # compute all successor states\n",
    "    states = []\n",
    "    for action in actions:\n",
    "        state = current_state.copy()\n",
    "        action_function, candidate = action\n",
    "        for predicate in action_function.effects.literals:\n",
    "            if predicate[0]==-1:\n",
    "                neg_value_predicate = get_value_predicate(predicate[1], candidate)\n",
    "                if neg_value_predicate in state:\n",
    "                    state.remove(neg_value_predicate)\n",
    "                    state.append((-1, neg_value_predicate))\n",
    "            else:\n",
    "                value_predicate = get_value_predicate(predicate, candidate)\n",
    "                if value_predicate not in state:\n",
    "                    state.append(value_predicate)\n",
    "        states.append(state)\n",
    "    return states\n",
    "\n",
    "\n",
    "constant_predicates, initial_predicates = [], []\n",
    "\n",
    "for predicate in problem.initial_state.predicates:\n",
    "    if predicate[0] in [\"adjacent\", \"obstacle\"]:\n",
    "        constant_predicates.append(predicate)\n",
    "    else:\n",
    "        initial_predicates.append(predicate)\n",
    "\n",
    "initial_predicates\n",
    "\n",
    "\n",
    "states = get_neighbors(initial_predicates, constant_predicates, domain.actions)"
   ]
  }
 ],
 "metadata": {
  "kernelspec": {
   "display_name": "planif",
   "language": "python",
   "name": "python3"
  },
  "language_info": {
   "codemirror_mode": {
    "name": "ipython",
    "version": 3
   },
   "file_extension": ".py",
   "mimetype": "text/x-python",
   "name": "python",
   "nbconvert_exporter": "python",
   "pygments_lexer": "ipython3",
   "version": "3.9.16"
  },
  "orig_nbformat": 4
 },
 "nbformat": 4,
 "nbformat_minor": 2
}
